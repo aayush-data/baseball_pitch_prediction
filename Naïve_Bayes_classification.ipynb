{
  "nbformat": 4,
  "nbformat_minor": 0,
  "metadata": {
    "colab": {
      "name": "Naïve Bayes classification ",
      "provenance": [],
      "collapsed_sections": [],
      "toc_visible": true,
      "machine_shape": "hm"
    },
    "kernelspec": {
      "name": "python3",
      "display_name": "Python 3"
    }
  },
  "cells": [
    {
      "cell_type": "markdown",
      "metadata": {
        "id": "0MRC0e0KhQ0S"
      },
      "source": [
        "## Naïve Bayes classification "
      ]
    },
    {
      "cell_type": "markdown",
      "metadata": {
        "id": "LWd1UlMnhT2s"
      },
      "source": [
        "## Importing the libraries"
      ]
    },
    {
      "cell_type": "code",
      "metadata": {
        "id": "YvGPUQaHhXfL"
      },
      "source": [
        "import numpy as np\n",
        "import matplotlib.pyplot as plt\n",
        "import pandas as pd"
      ],
      "execution_count": null,
      "outputs": []
    },
    {
      "cell_type": "markdown",
      "metadata": {
        "id": "K1VMqkGvhc3-"
      },
      "source": [
        "## Importing the dataset"
      ]
    },
    {
      "cell_type": "code",
      "metadata": {
        "id": "M52QDmyzhh9s"
      },
      "source": [
        "dataset = pd.read_csv('Q2_pitches_train - Copy.csv')\n",
        "X = dataset.iloc[:,[0,1,2,3,4,5,6,8,9,10,11,12,13]].values \n",
        "y = dataset.iloc[:, [7]].values"
      ],
      "execution_count": null,
      "outputs": []
    },
    {
      "cell_type": "code",
      "metadata": {
        "colab": {
          "base_uri": "https://localhost:8080/"
        },
        "id": "n-CGocY21OnB",
        "outputId": "2f7ce02a-6035-4da8-cb2b-ccc7bd0fa119"
      },
      "source": [
        "print(dataset.isnull().sum())"
      ],
      "execution_count": null,
      "outputs": [
        {
          "output_type": "stream",
          "text": [
            "inning              0\n",
            "is_bottom           0\n",
            "balls               0\n",
            "strikes             0\n",
            "outs_before         0\n",
            "is_lhp              0\n",
            "is_lhb              0\n",
            "pitch_type          0\n",
            "bat_score_before    0\n",
            "field_score         0\n",
            "basecode_before     0\n",
            "batterid            0\n",
            "pitcherid           0\n",
            "cid                 0\n",
            "dtype: int64\n"
          ],
          "name": "stdout"
        }
      ]
    },
    {
      "cell_type": "code",
      "metadata": {
        "colab": {
          "base_uri": "https://localhost:8080/"
        },
        "id": "HZtvY1Cn2N97",
        "outputId": "c7c42409-b374-4633-de4e-c66d501a9c0d"
      },
      "source": [
        "from sklearn.preprocessing import LabelEncoder\n",
        "Ly = LabelEncoder()\n",
        "y = Ly.fit_transform(y)\n",
        "y"
      ],
      "execution_count": null,
      "outputs": [
        {
          "output_type": "stream",
          "text": [
            "/usr/local/lib/python3.7/dist-packages/sklearn/preprocessing/_label.py:251: DataConversionWarning: A column-vector y was passed when a 1d array was expected. Please change the shape of y to (n_samples, ), for example using ravel().\n",
            "  y = column_or_1d(y, warn=True)\n"
          ],
          "name": "stderr"
        },
        {
          "output_type": "execute_result",
          "data": {
            "text/plain": [
              "array([2, 2, 3, ..., 4, 1, 2])"
            ]
          },
          "metadata": {
            "tags": []
          },
          "execution_count": 100
        }
      ]
    },
    {
      "cell_type": "code",
      "metadata": {
        "colab": {
          "base_uri": "https://localhost:8080/"
        },
        "id": "B_flzs8M3iJp",
        "outputId": "b3af9235-c5f7-4e46-ac87-d51783b2dc50"
      },
      "source": [
        "Ly.classes_"
      ],
      "execution_count": null,
      "outputs": [
        {
          "output_type": "execute_result",
          "data": {
            "text/plain": [
              "array(['CB', 'CH', 'FF', 'FT', 'SL'], dtype=object)"
            ]
          },
          "metadata": {
            "tags": []
          },
          "execution_count": 101
        }
      ]
    },
    {
      "cell_type": "markdown",
      "metadata": {
        "id": "YvxIPVyMhmKp"
      },
      "source": [
        "\n",
        "## Splitting the dataset into the Training set and Test set"
      ]
    },
    {
      "cell_type": "code",
      "metadata": {
        "id": "AVzJWAXIhxoC"
      },
      "source": [
        "from sklearn.model_selection import train_test_split\n",
        "X_train, X_test, y_train, y_test = train_test_split(X, y, test_size = 0.25, random_state = 0)"
      ],
      "execution_count": null,
      "outputs": []
    },
    {
      "cell_type": "code",
      "metadata": {
        "id": "P3nS3-6r1i2B",
        "colab": {
          "base_uri": "https://localhost:8080/"
        },
        "outputId": "53c8da3c-5bc0-4f2c-bd64-27d0ac8bd50e"
      },
      "source": [
        "print(X_train[:10])"
      ],
      "execution_count": null,
      "outputs": [
        {
          "output_type": "stream",
          "text": [
            "[[   9    0    1    1    0    0    0    5    2    0   93 1373 2046]\n",
            " [   6    1    0    0    0    0    1   17    4    3  900 1290 2066]\n",
            " [   2    1    1    2    1    0    0    0    0    0  157 1020 2050]\n",
            " [   6    0    1    1    1    0    1    0    9    0   29 1292 2057]\n",
            " [  12    0    3    2    0    0    0    0    0    1  266 1395 2023]\n",
            " [   5    0    1    2    0    0    0    0    6    1  267 1813 2037]\n",
            " [   4    0    2    1    1    0    0    0    1    0  248 1603 2020]\n",
            " [   4    0    2    2    2    0    0    3    5    1  152 1180 2007]\n",
            " [   2    1    0    2    0    1    0    0    1    0  415 1306 2094]\n",
            " [   7    0    0    0    0    0    1    0    2    0  109 1051 2006]]\n"
          ],
          "name": "stdout"
        }
      ]
    },
    {
      "cell_type": "code",
      "metadata": {
        "id": "8dpDLojm1mVG",
        "colab": {
          "base_uri": "https://localhost:8080/"
        },
        "outputId": "ffa39cda-eca2-4d8e-d293-db6346fe65f9"
      },
      "source": [
        "print(y_train[:10])"
      ],
      "execution_count": null,
      "outputs": [
        {
          "output_type": "stream",
          "text": [
            "[4 0 2 2 3 1 1 2 0 4]\n"
          ],
          "name": "stdout"
        }
      ]
    },
    {
      "cell_type": "code",
      "metadata": {
        "id": "qbb7i0DH1qui",
        "colab": {
          "base_uri": "https://localhost:8080/"
        },
        "outputId": "5548e9f3-592b-4c6b-f979-96d8c6a225f9"
      },
      "source": [
        "print(X_test[:10])"
      ],
      "execution_count": null,
      "outputs": [
        {
          "output_type": "stream",
          "text": [
            "[[   8    0    0    0    1    0    1    2    3    0   23 1115 2048]\n",
            " [   3    0    0    0    2    1    0    1    1    1  586 1323 2034]\n",
            " [   7    1    1    2    1    1    0    6    2    0  330 1435 2037]\n",
            " [   8    0    2    2    1    0    0    5    2    5  242 1359 2075]\n",
            " [   1    0    0    0    0    1    1    0    0    1   87 1368 2047]\n",
            " [   1    0    3    1    2    1    0    0    0    0  155 1059 2018]\n",
            " [   7    1    0    1    0    0    1   10    9    0  106 1289 2066]\n",
            " [   1    0    1    0    0    1    0    0    0    0  122 1407 2024]\n",
            " [   9    0    0    0    0    0    1    6    8    0  184 1159 2024]\n",
            " [   5    1    1    0    1    1    0    2    0    0    4 1052 2015]]\n"
          ],
          "name": "stdout"
        }
      ]
    },
    {
      "cell_type": "code",
      "metadata": {
        "id": "kj1hnFAR1s5w",
        "colab": {
          "base_uri": "https://localhost:8080/"
        },
        "outputId": "03fddcd7-2969-4ae0-ebb9-a7dfc9be0544"
      },
      "source": [
        "print(y_test[:10])"
      ],
      "execution_count": null,
      "outputs": [
        {
          "output_type": "stream",
          "text": [
            "[3 1 0 2 4 2 1 4 3 2]\n"
          ],
          "name": "stdout"
        }
      ]
    },
    {
      "cell_type": "markdown",
      "metadata": {
        "id": "kW3c7UYih0hT"
      },
      "source": [
        "## Feature Scaling"
      ]
    },
    {
      "cell_type": "code",
      "metadata": {
        "id": "9fQlDPKCh8sc"
      },
      "source": [
        "from sklearn.preprocessing import StandardScaler\n",
        "sc = StandardScaler()\n",
        "X_train = sc.fit_transform(X_train)\n",
        "X_test = sc.transform(X_test)"
      ],
      "execution_count": null,
      "outputs": []
    },
    {
      "cell_type": "code",
      "metadata": {
        "id": "syrnD1Op2BSR",
        "colab": {
          "base_uri": "https://localhost:8080/"
        },
        "outputId": "f6a12e35-62b3-4ee4-8193-2bf7032d8211"
      },
      "source": [
        "print(X_train[:10])"
      ],
      "execution_count": null,
      "outputs": [
        {
          "output_type": "stream",
          "text": [
            "[[ 1.47859979e+00 -9.80015881e-01  1.13739699e-01  1.28060316e-01\n",
            "  -1.18823181e+00 -6.18603075e-01 -8.39417422e-01  9.43502904e-01\n",
            "  -1.66603619e-01 -6.09638222e-01 -9.57022464e-01  2.87924892e-01\n",
            "   3.45012484e-01]\n",
            " [ 3.64037521e-01  1.02039163e+00 -9.14181051e-01 -1.07909969e+00\n",
            "  -1.18823181e+00 -6.18603075e-01  1.19130241e+00  5.36779307e+00\n",
            "   5.50402825e-01  1.16057779e+00  3.34057221e+00 -1.33848252e-01\n",
            "   1.11000543e+00]\n",
            " [-1.12204550e+00  1.02039163e+00  1.13739699e-01  1.33522032e+00\n",
            "   3.32421792e-02 -6.18603075e-01 -8.39417422e-01 -8.99951332e-01\n",
            "  -8.83610064e-01 -6.09638222e-01 -6.16197112e-01 -1.50588137e+00\n",
            "   4.98011072e-01]\n",
            " [ 3.64037521e-01 -9.80015881e-01  1.13739699e-01  1.28060316e-01\n",
            "   3.32421792e-02 -6.18603075e-01  1.19130241e+00 -8.99951332e-01\n",
            "   2.34291893e+00 -6.09638222e-01 -1.29784782e+00 -1.23685044e-01\n",
            "   7.65758603e-01]\n",
            " [ 2.59316206e+00 -9.80015881e-01  2.16958120e+00  1.33522032e+00\n",
            "  -1.18823181e+00 -6.18603075e-01 -8.39417422e-01 -8.99951332e-01\n",
            "  -8.83610064e-01 -1.95662187e-02 -3.57289335e-02  3.99720183e-01\n",
            "  -5.34729402e-01]\n",
            " [-7.48323554e-03 -9.80015881e-01  1.13739699e-01  1.33522032e+00\n",
            "  -1.18823181e+00 -6.18603075e-01 -8.39417422e-01 -8.99951332e-01\n",
            "   1.26740927e+00 -1.95662187e-02 -3.04035373e-02  2.52383071e+00\n",
            "   7.65658918e-04]\n",
            " [-3.79003992e-01 -9.80015881e-01  1.14166045e+00  1.28060316e-01\n",
            "   3.32421792e-02 -6.18603075e-01 -8.39417422e-01 -8.99951332e-01\n",
            "  -5.25106841e-01 -6.09638222e-01 -1.31586064e-01  1.45669384e+00\n",
            "  -6.49478343e-01]\n",
            " [-3.79003992e-01 -9.80015881e-01  1.14166045e+00  1.33522032e+00\n",
            "   1.25471617e+00 -6.18603075e-01 -8.39417422e-01  2.06121209e-01\n",
            "   9.08906047e-01 -1.95662187e-02 -6.42824092e-01 -6.92824708e-01\n",
            "  -1.14672376e+00]\n",
            " [-1.12204550e+00  1.02039163e+00 -9.14181051e-01  1.33522032e+00\n",
            "  -1.18823181e+00  1.61654547e+00 -8.39417422e-01 -8.99951332e-01\n",
            "  -5.25106841e-01 -6.09638222e-01  7.57755090e-01 -5.25425859e-02\n",
            "   2.18099555e+00]\n",
            " [ 7.35558277e-01 -9.80015881e-01 -9.14181051e-01 -1.07909969e+00\n",
            "  -1.18823181e+00 -6.18603075e-01  1.19130241e+00 -8.99951332e-01\n",
            "  -1.66603619e-01 -6.09638222e-01 -8.71816126e-01 -1.34835164e+00\n",
            "  -1.18497340e+00]]\n"
          ],
          "name": "stdout"
        }
      ]
    },
    {
      "cell_type": "code",
      "metadata": {
        "id": "JUd6iBRp2C3L",
        "colab": {
          "base_uri": "https://localhost:8080/"
        },
        "outputId": "0dd2d7f8-8e63-45e9-aad8-e48c9b062c80"
      },
      "source": [
        "print(X_test[:10])"
      ],
      "execution_count": null,
      "outputs": [
        {
          "output_type": "stream",
          "text": [
            "[[-1.1220455  -0.98001588  0.1137397  -1.07909969  0.03324218 -0.61860307\n",
            "  -0.83941742 -0.89995133  0.1918996  -0.60963822  0.84296143  1.54816272\n",
            "   0.57451037]\n",
            " [-0.75052475 -0.98001588 -0.91418105 -1.07909969  1.25471617  1.61654547\n",
            "  -0.83941742 -0.53126048 -0.16660362 -0.60963822 -0.55761775 -1.18065871\n",
            "  -1.33797199]\n",
            " [-0.00748324  1.02039163  0.1137397   1.33522032 -1.18823181 -0.61860307\n",
            "  -0.83941742 -0.89995133 -0.88361006 -0.60963822  0.92816777 -1.46014693\n",
            "  -1.14672376]\n",
            " [-1.1220455   1.02039163 -0.91418105  0.12806032 -1.18823181 -0.61860307\n",
            "  -0.83941742 -0.89995133 -0.88361006  0.57050578  0.20391389  0.28284329\n",
            "  -0.45823011]\n",
            " [-0.37900399  1.02039163 -0.91418105  1.33522032 -1.18823181  1.61654547\n",
            "   1.19130241 -0.16256964  0.1918996  -0.60963822 -1.05820499 -1.14508748\n",
            "  -0.49647975]\n",
            " [-0.75052475 -0.98001588 -0.91418105  0.12806032  1.25471617 -0.61860307\n",
            "  -0.83941742 -0.89995133 -0.52510684 -0.01956622 -0.14756225  1.57357074\n",
            "   1.18650472]\n",
            " [ 1.10707903  1.02039163  0.1137397  -1.07909969  0.03324218  1.61654547\n",
            "  -0.83941742  0.9435029   0.1918996  -0.60963822  0.68852494  1.11622637\n",
            "  -1.33797199]\n",
            " [ 1.10707903  1.02039163 -0.91418105 -1.07909969  1.25471617 -0.61860307\n",
            "  -0.83941742 -0.89995133 -0.16660362  1.75064979 -0.45110983  0.21678243\n",
            "   1.45425225]\n",
            " [ 0.36403752  1.02039163 -0.91418105 -1.07909969 -1.18823181 -0.61860307\n",
            "  -0.83941742 -0.53126048  0.1918996   0.57050578 -0.10495908 -0.0677874\n",
            "  -0.45823011]\n",
            " [-0.37900399 -0.98001588  0.1137397  -1.07909969  0.03324218 -0.61860307\n",
            "  -0.83941742  0.57481206 -0.16660362  0.57050578 -1.16471291 -0.86051764\n",
            "   1.76024943]]\n"
          ],
          "name": "stdout"
        }
      ]
    },
    {
      "cell_type": "markdown",
      "metadata": {
        "id": "bb6jCOCQiAmP"
      },
      "source": [
        "## Training the Naïve Bayes classification  model on the Training set"
      ]
    },
    {
      "cell_type": "code",
      "metadata": {
        "id": "e0pFVAmciHQs",
        "colab": {
          "base_uri": "https://localhost:8080/"
        },
        "outputId": "384330c1-1e87-4dad-8719-e51564467b6c"
      },
      "source": [
        "from sklearn.naive_bayes import GaussianNB\n",
        "classifier = GaussianNB()\n",
        "classifier.fit(X_train, y_train)"
      ],
      "execution_count": null,
      "outputs": [
        {
          "output_type": "execute_result",
          "data": {
            "text/plain": [
              "GaussianNB(priors=None, var_smoothing=1e-09)"
            ]
          },
          "metadata": {
            "tags": []
          },
          "execution_count": 84
        }
      ]
    },
    {
      "cell_type": "code",
      "metadata": {
        "id": "f8YOXsQy58rP"
      },
      "source": [
        "print(classifier.predict_proba(sc.transform([[40,87000,10]])))"
      ],
      "execution_count": null,
      "outputs": []
    },
    {
      "cell_type": "markdown",
      "metadata": {
        "id": "vKYVQH-l5NpE"
      },
      "source": [
        "## Predicting the Test set results"
      ]
    },
    {
      "cell_type": "code",
      "metadata": {
        "id": "p6VMTb2O4hwM",
        "colab": {
          "base_uri": "https://localhost:8080/"
        },
        "outputId": "3834f0ab-a6e7-48f8-d8e1-9dea81544cb3"
      },
      "source": [
        "y_pred = classifier.predict(X_test)\n",
        "print(np.concatenate((y_pred.reshape(len(y_pred),1), y_test.reshape(len(y_test),1)),1))"
      ],
      "execution_count": null,
      "outputs": [
        {
          "output_type": "stream",
          "text": [
            "[[2 3]\n",
            " [2 1]\n",
            " [2 0]\n",
            " ...\n",
            " [2 4]\n",
            " [2 2]\n",
            " [2 3]]\n"
          ],
          "name": "stdout"
        }
      ]
    },
    {
      "cell_type": "code",
      "metadata": {
        "colab": {
          "base_uri": "https://localhost:8080/"
        },
        "id": "4LpMc1pyz7Ta",
        "outputId": "59127f8c-0989-4034-a090-4eef6eb034db"
      },
      "source": [
        "y_pred1 = classifier.predict_proba(X_test)\n",
        "print(y_pred1)\n"
      ],
      "execution_count": null,
      "outputs": [
        {
          "output_type": "stream",
          "text": [
            "[[0.13318714 0.10910625 0.42003122 0.19652171 0.14115368]\n",
            " [0.1466111  0.14749478 0.31725017 0.24821153 0.14043242]\n",
            " [0.11907431 0.12738624 0.35738668 0.14990756 0.2462452 ]\n",
            " ...\n",
            " [0.13443293 0.18122524 0.36082518 0.18969696 0.13381968]\n",
            " [0.11085397 0.10898902 0.36353092 0.15730498 0.2593211 ]\n",
            " [0.12203945 0.08656169 0.38473982 0.23694074 0.1697183 ]]\n"
          ],
          "name": "stdout"
        }
      ]
    },
    {
      "cell_type": "markdown",
      "metadata": {
        "id": "h4Hwj34ziWQW"
      },
      "source": [
        "## Making the Confusion Matrix"
      ]
    },
    {
      "cell_type": "code",
      "metadata": {
        "id": "D6bpZwUiiXic",
        "colab": {
          "base_uri": "https://localhost:8080/"
        },
        "outputId": "d57b1161-5c31-4eac-e565-e1c7587a9471"
      },
      "source": [
        "from sklearn.metrics import confusion_matrix, accuracy_score\n",
        "cm = confusion_matrix(y_test, y_pred)\n",
        "print(cm)\n",
        "accuracy_score(y_test, y_pred)"
      ],
      "execution_count": null,
      "outputs": [
        {
          "output_type": "stream",
          "text": [
            "[[    0     0 11144     0   764]\n",
            " [    0     0 13975     0   670]\n",
            " [    0     1 45185     0  2852]\n",
            " [    0     0 20506     0  1103]\n",
            " [    0     0 21949     0  2080]]\n"
          ],
          "name": "stdout"
        },
        {
          "output_type": "execute_result",
          "data": {
            "text/plain": [
              "0.39312478686506586"
            ]
          },
          "metadata": {
            "tags": []
          },
          "execution_count": 87
        }
      ]
    }
  ]
}