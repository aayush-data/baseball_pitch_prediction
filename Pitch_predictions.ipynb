{
  "nbformat": 4,
  "nbformat_minor": 0,
  "metadata": {
    "colab": {
      "name": "Q2_Pitch_predictions",
      "provenance": [],
      "collapsed_sections": [],
      "toc_visible": true,
      "machine_shape": "hm"
    },
    "kernelspec": {
      "name": "python3",
      "display_name": "Python 3"
    }
  },
  "cells": [
    {
      "cell_type": "markdown",
      "metadata": {
        "id": "0MRC0e0KhQ0S"
      },
      "source": [
        "## XGB Classifier "
      ]
    },
    {
      "cell_type": "markdown",
      "metadata": {
        "id": "LWd1UlMnhT2s"
      },
      "source": [
        "## Importing the libraries"
      ]
    },
    {
      "cell_type": "code",
      "metadata": {
        "id": "YvGPUQaHhXfL"
      },
      "source": [
        "import numpy as np\n",
        "import matplotlib.pyplot as plt\n",
        "import pandas as pd"
      ],
      "execution_count": 2,
      "outputs": []
    },
    {
      "cell_type": "markdown",
      "metadata": {
        "id": "K1VMqkGvhc3-"
      },
      "source": [
        "## Importing the dataset"
      ]
    },
    {
      "cell_type": "code",
      "metadata": {
        "id": "M52QDmyzhh9s"
      },
      "source": [
        "dataset = pd.read_csv('Q2_pitches_train.csv')\n",
        "X_train = dataset.iloc[:, :-1].values\n",
        "y_train = dataset.iloc[:, -1].values\n",
        "dataset1 = pd.read_csv('Q2_pitches_test.csv')\n",
        "X_test = dataset.iloc[:, :13].values\n"
      ],
      "execution_count": 4,
      "outputs": []
    },
    {
      "cell_type": "markdown",
      "metadata": {
        "id": "4dPExvMrxolq"
      },
      "source": [
        "Check for null values"
      ]
    },
    {
      "cell_type": "code",
      "metadata": {
        "colab": {
          "base_uri": "https://localhost:8080/"
        },
        "id": "n-CGocY21OnB",
        "outputId": "3a0b3184-ea47-4053-df07-3cc21a38771f"
      },
      "source": [
        "print(dataset.isnull().sum())"
      ],
      "execution_count": 5,
      "outputs": [
        {
          "output_type": "stream",
          "text": [
            "inning              0\n",
            "is_bottom           0\n",
            "balls               0\n",
            "strikes             0\n",
            "outs_before         0\n",
            "is_lhp              0\n",
            "is_lhb              0\n",
            "bat_score_before    0\n",
            "field_score         0\n",
            "basecode_before     0\n",
            "batterid            0\n",
            "pitcherid           0\n",
            "cid                 0\n",
            "pitch_type          0\n",
            "dtype: int64\n"
          ],
          "name": "stdout"
        }
      ]
    },
    {
      "cell_type": "code",
      "metadata": {
        "colab": {
          "base_uri": "https://localhost:8080/"
        },
        "id": "-pbonvJgBxcd",
        "outputId": "d9485849-c92b-43ca-9928-bd24d115523c"
      },
      "source": [
        "print(dataset1.isnull().sum())"
      ],
      "execution_count": 6,
      "outputs": [
        {
          "output_type": "stream",
          "text": [
            "inning                   0\n",
            "is_bottom                0\n",
            "balls                    0\n",
            "strikes                  0\n",
            "outs_before              0\n",
            "is_lhp                   0\n",
            "is_lhb                   0\n",
            "bat_score_before         0\n",
            "field_score              0\n",
            "basecode_before          0\n",
            "batterid                 0\n",
            "pitcherid                0\n",
            "cid                      0\n",
            "FF                  160306\n",
            "FT                  160306\n",
            "CB                  160306\n",
            "SL                  160306\n",
            "CH                  160306\n",
            "dtype: int64\n"
          ],
          "name": "stdout"
        }
      ]
    },
    {
      "cell_type": "markdown",
      "metadata": {
        "id": "to7HHR4hxzMK"
      },
      "source": [
        "Converting the pitch type category in numerical format"
      ]
    },
    {
      "cell_type": "code",
      "metadata": {
        "colab": {
          "base_uri": "https://localhost:8080/"
        },
        "id": "HZtvY1Cn2N97",
        "outputId": "e2c1cafb-7f7c-4156-b634-8ef1a9d1ddf3"
      },
      "source": [
        "from sklearn.preprocessing import LabelEncoder\r\n",
        "Ly = LabelEncoder()\r\n",
        "y_train = Ly.fit_transform(y_train)\r\n",
        "y_train"
      ],
      "execution_count": 7,
      "outputs": [
        {
          "output_type": "execute_result",
          "data": {
            "text/plain": [
              "array([2, 2, 3, ..., 4, 1, 2])"
            ]
          },
          "metadata": {
            "tags": []
          },
          "execution_count": 7
        }
      ]
    },
    {
      "cell_type": "code",
      "metadata": {
        "colab": {
          "base_uri": "https://localhost:8080/"
        },
        "id": "B_flzs8M3iJp",
        "outputId": "d843457c-8e27-4111-8e1d-6cbdd3c4b352"
      },
      "source": [
        "Ly.classes_"
      ],
      "execution_count": 8,
      "outputs": [
        {
          "output_type": "execute_result",
          "data": {
            "text/plain": [
              "array(['CB', 'CH', 'FF', 'FT', 'SL'], dtype=object)"
            ]
          },
          "metadata": {
            "tags": []
          },
          "execution_count": 8
        }
      ]
    },
    {
      "cell_type": "code",
      "metadata": {
        "id": "P3nS3-6r1i2B",
        "colab": {
          "base_uri": "https://localhost:8080/"
        },
        "outputId": "2bfaca62-b057-4008-b06b-669d87f3dedd"
      },
      "source": [
        "print(X_train[:10])"
      ],
      "execution_count": 9,
      "outputs": [
        {
          "output_type": "stream",
          "text": [
            "[[   3    0    1    0    1    0    1    0    1    0  347 1304 2014]\n",
            " [   1    0    2    2    2    1    0    0    0    0  269 1661 2052]\n",
            " [   2    1    0    0    0    0    0    0    0    0   43 1048 2029]\n",
            " [   7    0    0    0    1    0    0    5    1    1   98 1521 2049]\n",
            " [   7    1    0    0    2    1    1    6    1    1  460 1100 2050]\n",
            " [   5    0    2    2    0    1    0    0    5    0  134 1182 2018]\n",
            " [   1    0    0    0    2    1    0    2    0    7   83 1291 2000]\n",
            " [   8    0    0    2    0    1    1    4    5    3  544 1418 2060]\n",
            " [   8    1    2    1    1    0    1   10    0    1  341 1049 2081]\n",
            " [   8    0    0    0    2    0    0    2    1    4  420 1765 2086]]\n"
          ],
          "name": "stdout"
        }
      ]
    },
    {
      "cell_type": "code",
      "metadata": {
        "id": "8dpDLojm1mVG",
        "colab": {
          "base_uri": "https://localhost:8080/"
        },
        "outputId": "53fe3935-9e7c-44e4-c1b9-dde8dfa83d76"
      },
      "source": [
        "print(y_train[:10])"
      ],
      "execution_count": 10,
      "outputs": [
        {
          "output_type": "stream",
          "text": [
            "[2 2 3 2 4 2 1 2 2 3]\n"
          ],
          "name": "stdout"
        }
      ]
    },
    {
      "cell_type": "code",
      "metadata": {
        "id": "qbb7i0DH1qui",
        "colab": {
          "base_uri": "https://localhost:8080/"
        },
        "outputId": "8f729b70-0d49-4243-f276-7bd7bf468b1e"
      },
      "source": [
        "print(X_test[:10])"
      ],
      "execution_count": 11,
      "outputs": [
        {
          "output_type": "stream",
          "text": [
            "[[   3    0    1    0    1    0    1    0    1    0  347 1304 2014]\n",
            " [   1    0    2    2    2    1    0    0    0    0  269 1661 2052]\n",
            " [   2    1    0    0    0    0    0    0    0    0   43 1048 2029]\n",
            " [   7    0    0    0    1    0    0    5    1    1   98 1521 2049]\n",
            " [   7    1    0    0    2    1    1    6    1    1  460 1100 2050]\n",
            " [   5    0    2    2    0    1    0    0    5    0  134 1182 2018]\n",
            " [   1    0    0    0    2    1    0    2    0    7   83 1291 2000]\n",
            " [   8    0    0    2    0    1    1    4    5    3  544 1418 2060]\n",
            " [   8    1    2    1    1    0    1   10    0    1  341 1049 2081]\n",
            " [   8    0    0    0    2    0    0    2    1    4  420 1765 2086]]\n"
          ],
          "name": "stdout"
        }
      ]
    },
    {
      "cell_type": "markdown",
      "metadata": {
        "id": "kW3c7UYih0hT"
      },
      "source": [
        "## Feature Scaling"
      ]
    },
    {
      "cell_type": "code",
      "metadata": {
        "id": "9fQlDPKCh8sc"
      },
      "source": [
        "from sklearn.preprocessing import StandardScaler\n",
        "sc = StandardScaler()\n",
        "X_train = sc.fit_transform(X_train)\n",
        "X_test = sc.transform(X_test)"
      ],
      "execution_count": 12,
      "outputs": []
    },
    {
      "cell_type": "code",
      "metadata": {
        "id": "syrnD1Op2BSR",
        "colab": {
          "base_uri": "https://localhost:8080/"
        },
        "outputId": "1bbc9dec-d1bd-40ef-d9c3-2eb919128bf0"
      },
      "source": [
        "print(X_train[:5])"
      ],
      "execution_count": 14,
      "outputs": [
        {
          "output_type": "stream",
          "text": [
            "[[-0.75049123 -0.97972577  0.11428095 -1.08009385  0.03356515 -0.61913404\n",
            "   1.19239002 -0.89949497 -0.52464162 -0.60959635  0.39476806 -0.06237865\n",
            "  -0.87998006]\n",
            " [-1.49360104 -0.97972577  1.14238622  1.33594257  1.25542449  1.61515914\n",
            "  -0.83865177 -0.89949497 -0.88314777 -0.60959635 -0.02039384  1.75170987\n",
            "   0.57320229]\n",
            " [-1.12204614  1.02069378 -0.91382432 -1.08009385 -1.18829419 -0.61913404\n",
            "  -0.83865177 -0.89949497 -0.88314777 -0.60959635 -1.22329884 -1.36323765\n",
            "  -0.30635545]\n",
            " [ 0.73572839 -0.97972577 -0.91382432 -1.08009385  0.03356515 -0.61913404\n",
            "  -0.83865177  0.94355431 -0.52464162 -0.02024018 -0.93055647  1.04030261\n",
            "   0.45847736]\n",
            " [ 0.73572839  1.02069378 -0.91382432 -1.08009385  1.25542449  1.61515914\n",
            "   1.19239002  1.31216417 -0.52464162 -0.02024018  0.99622056 -1.09900067\n",
            "   0.496719  ]]\n"
          ],
          "name": "stdout"
        }
      ]
    },
    {
      "cell_type": "code",
      "metadata": {
        "id": "JUd6iBRp2C3L",
        "colab": {
          "base_uri": "https://localhost:8080/"
        },
        "outputId": "1c75b1aa-4ec6-4e58-850a-fc47f527e906"
      },
      "source": [
        "print(X_test[:5])"
      ],
      "execution_count": 15,
      "outputs": [
        {
          "output_type": "stream",
          "text": [
            "[[-0.75049123 -0.97972577  0.11428095 -1.08009385  0.03356515 -0.61913404\n",
            "   1.19239002 -0.89949497 -0.52464162 -0.60959635  0.39476806 -0.06237865\n",
            "  -0.87998006]\n",
            " [-1.49360104 -0.97972577  1.14238622  1.33594257  1.25542449  1.61515914\n",
            "  -0.83865177 -0.89949497 -0.88314777 -0.60959635 -0.02039384  1.75170987\n",
            "   0.57320229]\n",
            " [-1.12204614  1.02069378 -0.91382432 -1.08009385 -1.18829419 -0.61913404\n",
            "  -0.83865177 -0.89949497 -0.88314777 -0.60959635 -1.22329884 -1.36323765\n",
            "  -0.30635545]\n",
            " [ 0.73572839 -0.97972577 -0.91382432 -1.08009385  0.03356515 -0.61913404\n",
            "  -0.83865177  0.94355431 -0.52464162 -0.02024018 -0.93055647  1.04030261\n",
            "   0.45847736]\n",
            " [ 0.73572839  1.02069378 -0.91382432 -1.08009385  1.25542449  1.61515914\n",
            "   1.19239002  1.31216417 -0.52464162 -0.02024018  0.99622056 -1.09900067\n",
            "   0.496719  ]]\n"
          ],
          "name": "stdout"
        }
      ]
    },
    {
      "cell_type": "markdown",
      "metadata": {
        "id": "bb6jCOCQiAmP"
      },
      "source": [
        "## Training the model on the Training set"
      ]
    },
    {
      "cell_type": "code",
      "metadata": {
        "id": "e0pFVAmciHQs",
        "colab": {
          "base_uri": "https://localhost:8080/"
        },
        "outputId": "6e55ae2c-6d87-4bfe-cc10-b947eb448f51"
      },
      "source": [
        "import xgboost as xgb\n",
        "xgb_model = xgb.XGBClassifier(random_state=0)\n",
        "xgb_model.fit(X_train,y_train)"
      ],
      "execution_count": 16,
      "outputs": [
        {
          "output_type": "execute_result",
          "data": {
            "text/plain": [
              "XGBClassifier(base_score=0.5, booster='gbtree', colsample_bylevel=1,\n",
              "              colsample_bynode=1, colsample_bytree=1, gamma=0,\n",
              "              learning_rate=0.1, max_delta_step=0, max_depth=3,\n",
              "              min_child_weight=1, missing=None, n_estimators=100, n_jobs=1,\n",
              "              nthread=None, objective='multi:softprob', random_state=0,\n",
              "              reg_alpha=0, reg_lambda=1, scale_pos_weight=1, seed=None,\n",
              "              silent=None, subsample=1, verbosity=1)"
            ]
          },
          "metadata": {
            "tags": []
          },
          "execution_count": 16
        }
      ]
    },
    {
      "cell_type": "markdown",
      "metadata": {
        "id": "vKYVQH-l5NpE"
      },
      "source": [
        "## Predicting the Test Set probability"
      ]
    },
    {
      "cell_type": "code",
      "metadata": {
        "colab": {
          "base_uri": "https://localhost:8080/"
        },
        "id": "4LpMc1pyz7Ta",
        "outputId": "727d37d2-16c4-4e38-a8e1-a40f4942d892"
      },
      "source": [
        "y_pred_proba = xgb_model.predict_proba(X_test)\r\n",
        "print(y_pred_proba)\r\n"
      ],
      "execution_count": 18,
      "outputs": [
        {
          "output_type": "stream",
          "text": [
            "[[0.06884909 0.18187404 0.4465857  0.17926237 0.1234288 ]\n",
            " [0.14553118 0.22469804 0.38349476 0.11260774 0.13366829]\n",
            " [0.13810155 0.05254466 0.44641352 0.24208355 0.12085678]\n",
            " ...\n",
            " [0.06952212 0.10292505 0.38328165 0.19658728 0.24768391]\n",
            " [0.13324586 0.22410698 0.39315787 0.11604362 0.1334457 ]\n",
            " [0.15693551 0.13637745 0.34763953 0.25277746 0.10627006]]\n"
          ],
          "name": "stdout"
        }
      ]
    },
    {
      "cell_type": "markdown",
      "metadata": {
        "id": "j3Mass82zsBk"
      },
      "source": [
        "## Creating the test set file with predicted probability"
      ]
    },
    {
      "cell_type": "code",
      "metadata": {
        "id": "eccCOdiuEMbu"
      },
      "source": [
        "X_test = sc.inverse_transform(X_test)"
      ],
      "execution_count": 19,
      "outputs": []
    },
    {
      "cell_type": "code",
      "metadata": {
        "colab": {
          "base_uri": "https://localhost:8080/"
        },
        "id": "pJ8ZpZu1EoT1",
        "outputId": "9ac13eee-1746-42d4-8ae4-7ae0c5ba9fa2"
      },
      "source": [
        "X = pd.DataFrame(X_test, columns = ['inning', 'is_bottom', 'balls', 'strikes', 'outs_before', 'is_lhp', 'is_lhb', 'bat_score_before', 'field_score', 'basecode_before', 'batterid', 'pitcherid','cid'])\r\n",
        "print(X.head())"
      ],
      "execution_count": 23,
      "outputs": [
        {
          "output_type": "stream",
          "text": [
            "   inning  is_bottom  balls  ...  batterid  pitcherid     cid\n",
            "0     3.0        0.0    1.0  ...     347.0     1304.0  2014.0\n",
            "1     1.0        0.0    2.0  ...     269.0     1661.0  2052.0\n",
            "2     2.0        1.0    0.0  ...      43.0     1048.0  2029.0\n",
            "3     7.0        0.0    0.0  ...      98.0     1521.0  2049.0\n",
            "4     7.0        1.0    0.0  ...     460.0     1100.0  2050.0\n",
            "\n",
            "[5 rows x 13 columns]\n"
          ],
          "name": "stdout"
        }
      ]
    },
    {
      "cell_type": "code",
      "metadata": {
        "colab": {
          "base_uri": "https://localhost:8080/"
        },
        "id": "rGG6na_ZI_i6",
        "outputId": "3f98f892-9671-426b-f84c-1086e4a19264"
      },
      "source": [
        "Y = pd.DataFrame(y_pred_proba, columns = ['CB', 'CH', 'FF', 'FT', 'SL'])\r\n",
        "print(Y.head())"
      ],
      "execution_count": 24,
      "outputs": [
        {
          "output_type": "stream",
          "text": [
            "         CB        CH        FF        FT        SL\n",
            "0  0.068849  0.181874  0.446586  0.179262  0.123429\n",
            "1  0.145531  0.224698  0.383495  0.112608  0.133668\n",
            "2  0.138102  0.052545  0.446414  0.242084  0.120857\n",
            "3  0.097153  0.049362  0.365213  0.218246  0.270027\n",
            "4  0.106114  0.044145  0.365560  0.211235  0.272947\n"
          ],
          "name": "stdout"
        }
      ]
    },
    {
      "cell_type": "code",
      "metadata": {
        "colab": {
          "base_uri": "https://localhost:8080/",
          "height": 220
        },
        "id": "2eDefGW4Ktkf",
        "outputId": "6d642482-f29a-43fd-a3fb-eddcf914b691"
      },
      "source": [
        "result = pd.concat([X, Y], axis=1)\r\n",
        "result.head()"
      ],
      "execution_count": 25,
      "outputs": [
        {
          "output_type": "execute_result",
          "data": {
            "text/html": [
              "<div>\n",
              "<style scoped>\n",
              "    .dataframe tbody tr th:only-of-type {\n",
              "        vertical-align: middle;\n",
              "    }\n",
              "\n",
              "    .dataframe tbody tr th {\n",
              "        vertical-align: top;\n",
              "    }\n",
              "\n",
              "    .dataframe thead th {\n",
              "        text-align: right;\n",
              "    }\n",
              "</style>\n",
              "<table border=\"1\" class=\"dataframe\">\n",
              "  <thead>\n",
              "    <tr style=\"text-align: right;\">\n",
              "      <th></th>\n",
              "      <th>inning</th>\n",
              "      <th>is_bottom</th>\n",
              "      <th>balls</th>\n",
              "      <th>strikes</th>\n",
              "      <th>outs_before</th>\n",
              "      <th>is_lhp</th>\n",
              "      <th>is_lhb</th>\n",
              "      <th>bat_score_before</th>\n",
              "      <th>field_score</th>\n",
              "      <th>basecode_before</th>\n",
              "      <th>batterid</th>\n",
              "      <th>pitcherid</th>\n",
              "      <th>cid</th>\n",
              "      <th>CB</th>\n",
              "      <th>CH</th>\n",
              "      <th>FF</th>\n",
              "      <th>FT</th>\n",
              "      <th>SL</th>\n",
              "    </tr>\n",
              "  </thead>\n",
              "  <tbody>\n",
              "    <tr>\n",
              "      <th>0</th>\n",
              "      <td>3.0</td>\n",
              "      <td>0.0</td>\n",
              "      <td>1.0</td>\n",
              "      <td>0.0</td>\n",
              "      <td>1.0</td>\n",
              "      <td>0.0</td>\n",
              "      <td>1.0</td>\n",
              "      <td>0.0</td>\n",
              "      <td>1.0</td>\n",
              "      <td>0.0</td>\n",
              "      <td>347.0</td>\n",
              "      <td>1304.0</td>\n",
              "      <td>2014.0</td>\n",
              "      <td>0.068849</td>\n",
              "      <td>0.181874</td>\n",
              "      <td>0.446586</td>\n",
              "      <td>0.179262</td>\n",
              "      <td>0.123429</td>\n",
              "    </tr>\n",
              "    <tr>\n",
              "      <th>1</th>\n",
              "      <td>1.0</td>\n",
              "      <td>0.0</td>\n",
              "      <td>2.0</td>\n",
              "      <td>2.0</td>\n",
              "      <td>2.0</td>\n",
              "      <td>1.0</td>\n",
              "      <td>0.0</td>\n",
              "      <td>0.0</td>\n",
              "      <td>0.0</td>\n",
              "      <td>0.0</td>\n",
              "      <td>269.0</td>\n",
              "      <td>1661.0</td>\n",
              "      <td>2052.0</td>\n",
              "      <td>0.145531</td>\n",
              "      <td>0.224698</td>\n",
              "      <td>0.383495</td>\n",
              "      <td>0.112608</td>\n",
              "      <td>0.133668</td>\n",
              "    </tr>\n",
              "    <tr>\n",
              "      <th>2</th>\n",
              "      <td>2.0</td>\n",
              "      <td>1.0</td>\n",
              "      <td>0.0</td>\n",
              "      <td>0.0</td>\n",
              "      <td>0.0</td>\n",
              "      <td>0.0</td>\n",
              "      <td>0.0</td>\n",
              "      <td>0.0</td>\n",
              "      <td>0.0</td>\n",
              "      <td>0.0</td>\n",
              "      <td>43.0</td>\n",
              "      <td>1048.0</td>\n",
              "      <td>2029.0</td>\n",
              "      <td>0.138102</td>\n",
              "      <td>0.052545</td>\n",
              "      <td>0.446414</td>\n",
              "      <td>0.242084</td>\n",
              "      <td>0.120857</td>\n",
              "    </tr>\n",
              "    <tr>\n",
              "      <th>3</th>\n",
              "      <td>7.0</td>\n",
              "      <td>0.0</td>\n",
              "      <td>0.0</td>\n",
              "      <td>0.0</td>\n",
              "      <td>1.0</td>\n",
              "      <td>0.0</td>\n",
              "      <td>0.0</td>\n",
              "      <td>5.0</td>\n",
              "      <td>1.0</td>\n",
              "      <td>1.0</td>\n",
              "      <td>98.0</td>\n",
              "      <td>1521.0</td>\n",
              "      <td>2049.0</td>\n",
              "      <td>0.097153</td>\n",
              "      <td>0.049362</td>\n",
              "      <td>0.365213</td>\n",
              "      <td>0.218246</td>\n",
              "      <td>0.270027</td>\n",
              "    </tr>\n",
              "    <tr>\n",
              "      <th>4</th>\n",
              "      <td>7.0</td>\n",
              "      <td>1.0</td>\n",
              "      <td>0.0</td>\n",
              "      <td>0.0</td>\n",
              "      <td>2.0</td>\n",
              "      <td>1.0</td>\n",
              "      <td>1.0</td>\n",
              "      <td>6.0</td>\n",
              "      <td>1.0</td>\n",
              "      <td>1.0</td>\n",
              "      <td>460.0</td>\n",
              "      <td>1100.0</td>\n",
              "      <td>2050.0</td>\n",
              "      <td>0.106114</td>\n",
              "      <td>0.044145</td>\n",
              "      <td>0.365560</td>\n",
              "      <td>0.211235</td>\n",
              "      <td>0.272947</td>\n",
              "    </tr>\n",
              "  </tbody>\n",
              "</table>\n",
              "</div>"
            ],
            "text/plain": [
              "   inning  is_bottom  balls  strikes  ...        CH        FF        FT        SL\n",
              "0     3.0        0.0    1.0      0.0  ...  0.181874  0.446586  0.179262  0.123429\n",
              "1     1.0        0.0    2.0      2.0  ...  0.224698  0.383495  0.112608  0.133668\n",
              "2     2.0        1.0    0.0      0.0  ...  0.052545  0.446414  0.242084  0.120857\n",
              "3     7.0        0.0    0.0      0.0  ...  0.049362  0.365213  0.218246  0.270027\n",
              "4     7.0        1.0    0.0      0.0  ...  0.044145  0.365560  0.211235  0.272947\n",
              "\n",
              "[5 rows x 18 columns]"
            ]
          },
          "metadata": {
            "tags": []
          },
          "execution_count": 25
        }
      ]
    },
    {
      "cell_type": "code",
      "metadata": {
        "colab": {
          "base_uri": "https://localhost:8080/",
          "height": 17
        },
        "id": "K7lJIYHU0JYF",
        "outputId": "79199476-ce33-40fd-ee30-d12e76a24775"
      },
      "source": [
        "from google.colab import files\r\n",
        "result.to_csv('Q2_pitches_test_predict.csv')\r\n",
        "files.download('Q2_pitches_test_predict.csv')"
      ],
      "execution_count": 30,
      "outputs": [
        {
          "output_type": "display_data",
          "data": {
            "application/javascript": [
              "\n",
              "    async function download(id, filename, size) {\n",
              "      if (!google.colab.kernel.accessAllowed) {\n",
              "        return;\n",
              "      }\n",
              "      const div = document.createElement('div');\n",
              "      const label = document.createElement('label');\n",
              "      label.textContent = `Downloading \"${filename}\": `;\n",
              "      div.appendChild(label);\n",
              "      const progress = document.createElement('progress');\n",
              "      progress.max = size;\n",
              "      div.appendChild(progress);\n",
              "      document.body.appendChild(div);\n",
              "\n",
              "      const buffers = [];\n",
              "      let downloaded = 0;\n",
              "\n",
              "      const channel = await google.colab.kernel.comms.open(id);\n",
              "      // Send a message to notify the kernel that we're ready.\n",
              "      channel.send({})\n",
              "\n",
              "      for await (const message of channel.messages) {\n",
              "        // Send a message to notify the kernel that we're ready.\n",
              "        channel.send({})\n",
              "        if (message.buffers) {\n",
              "          for (const buffer of message.buffers) {\n",
              "            buffers.push(buffer);\n",
              "            downloaded += buffer.byteLength;\n",
              "            progress.value = downloaded;\n",
              "          }\n",
              "        }\n",
              "      }\n",
              "      const blob = new Blob(buffers, {type: 'application/binary'});\n",
              "      const a = document.createElement('a');\n",
              "      a.href = window.URL.createObjectURL(blob);\n",
              "      a.download = filename;\n",
              "      div.appendChild(a);\n",
              "      a.click();\n",
              "      div.remove();\n",
              "    }\n",
              "  "
            ],
            "text/plain": [
              "<IPython.core.display.Javascript object>"
            ]
          },
          "metadata": {
            "tags": []
          }
        },
        {
          "output_type": "display_data",
          "data": {
            "application/javascript": [
              "download(\"download_56efa7fa-3499-48ea-990d-9e7d560169a8\", \"Q2_pitches_test_predict.csv\", 59368109)"
            ],
            "text/plain": [
              "<IPython.core.display.Javascript object>"
            ]
          },
          "metadata": {
            "tags": []
          }
        }
      ]
    }
  ]
}